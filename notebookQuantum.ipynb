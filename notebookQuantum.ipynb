{
 "cells": [
  {
   "cell_type": "markdown",
   "metadata": {},
   "source": [
    "# NEQR Quantum Circuit Example\n",
    "\n",
    "**Author: Luis Jose Mantilla Santa Cruz**\n",
    "\n",
    "In this notebook, we will implement a quantum circuit for the Novel Enhanced Quantum Representation (NEQR) model using Qiskit. We will demonstrate how to encode a small 2x2 grayscale image into a quantum state.\n",
    "\n",
    "## Reference\n",
    "\n",
    "For more details on NEQR, please refer to the following article:\n",
    "\n",
    "- **Title:** NEQR: a novel enhanced quantum representation of digital images\n",
    "- **Authors:** [Include author names if available]\n",
    "- **Published:** 26 March 2013\n",
    "- **Journal:** Quantum Information Processing\n",
    "- **Volume:** 12, Pages 2833–2860\n",
    "- **Link:** [NEQR Article on SpringerLink](https://link.springer.com/article/10.1007/s11128-013-0567-z)\n",
    "\n",
    "## Step 1: Import Libraries\n",
    "\n",
    "First, we need to import the required libraries from Qiskit and other useful packages.\n"
   ]
  },
  {
   "cell_type": "code",
   "execution_count": 2,
   "metadata": {},
   "outputs": [],
   "source": [
    "from qiskit import QuantumCircuit\n",
    "from qiskit_aer.primitives import Estimator \n",
    "\n",
    "from qiskit.circuit import QuantumCircuit, QuantumRegister, ClassicalRegister\n",
    "from qiskit.primitives import Sampler\n",
    "\n",
    "from matplotlib import pyplot as plt\n",
    "import numpy as np\n",
    "from qiskit.visualization import plot_histogram"
   ]
  },
  {
   "cell_type": "markdown",
   "metadata": {},
   "source": [
    "## Step 2: Define the Quantum Circuit\n",
    "\n",
    "We'll define a quantum circuit for encoding a 2x2 image with a grayscale range of 2. This will use 4 qubits: 2 for the coordinates and 2 for the grayscale values.\n",
    "\n",
    "The quantum state representing an image of size \\(2^n \\times 2^n\\) can be expressed as:\n",
    "\n",
    "$$\n",
    "|I\\rangle = \\frac{1}{2^n} \\sum_{Y=0}^{2^n-1} \\sum_{X=0}^{2^n-1} |f(Y, X)\\rangle |YX\\rangle\n",
    "$$\n",
    "\n",
    "where \\( f(Y, X) \\) is the grayscale value for the pixel at position \\((Y, X)\\).\n"
   ]
  },
  {
   "cell_type": "code",
   "execution_count": 28,
   "metadata": {},
   "outputs": [],
   "source": [
    "def encode_neqr(image_data):\n",
    "    \"\"\"Encode a grayscale image using the NEQR method in Qiskit.\"\"\"\n",
    "    # Image dimensions\n",
    "    rows, cols = image_data.shape\n",
    "\n",
    "    # Number of qubits for coordinates\n",
    "    num_row_qubits = int(np.ceil(np.log2(rows)))\n",
    "    num_col_qubits = int(np.ceil(np.log2(cols)))\n",
    "    num_coordinate_qubits = num_row_qubits + num_col_qubits\n",
    "    \n",
    "    # Determine maximum grayscale value to calculate required qubits\n",
    "    max_grayscale_value = image_data.max()\n",
    "    num_grayscale_qubits = int(np.ceil(np.log2(max_grayscale_value + 1)))\n",
    "    \n",
    "    # Total number of qubits\n",
    "    num_qubits = num_coordinate_qubits + num_grayscale_qubits\n",
    "    \n",
    "    # Create quantum circuit\n",
    "    circuit = QuantumCircuit(num_qubits, num_qubits)\n",
    "    \n",
    "    # Apply Hadamard gates to coordinate qubits\n",
    "    for qubit in range(num_coordinate_qubits):\n",
    "        circuit.h(qubit)\n",
    "    \n",
    "    # Encode each pixel value into quantum states using controlled operations\n",
    "    for row in range(rows):\n",
    "        for col in range(cols):\n",
    "            pixel_value = image_data[row, col]\n",
    "            bin_value = format(pixel_value, f'0{num_grayscale_qubits}b')\n",
    "            \n",
    "            # Convert row and column to binary indices\n",
    "            row_bin = format(row, f'0{num_row_qubits}b')\n",
    "            col_bin = format(col, f'0{num_col_qubits}b')\n",
    "            coord_bin_indices = row_bin + col_bin\n",
    "            \n",
    "            # Apply X gates to set coordinate qubits\n",
    "            for i, bit in enumerate(coord_bin_indices):\n",
    "                if bit == '1':\n",
    "                    circuit.x(i)\n",
    "            \n",
    "            # Apply controlled-NOT (CNOT) gates to encode grayscale value\n",
    "            for k, bit in enumerate(bin_value):\n",
    "                if bit == '1':\n",
    "                    # Use coordinate qubits as control for the grayscale qubits\n",
    "                    circuit.mcx(list(range(num_coordinate_qubits)), num_coordinate_qubits + k)\n",
    "            \n",
    "            # Reset the coordinate qubits (if necessary) to superposition\n",
    "            for i, bit in enumerate(coord_bin_indices):\n",
    "                if bit == '1':\n",
    "                    circuit.x(i)\n",
    "\n",
    "    # Add measurement operations\n",
    "    circuit.measure(range(num_qubits), range(num_qubits))\n",
    "    \n",
    "    return circuit\n"
   ]
  },
  {
   "cell_type": "markdown",
   "metadata": {},
   "source": [
    "## Step 3: Encode Pixel Values\n",
    "\n",
    "We will encode grayscale values and coordinates into the quantum circuit. For simplicity, we assume the pixel values are as follows:\n",
    "\n",
    "- \\( f(0,0) = 0 \\)\n",
    "- \\( f(0,1) = 1 \\)\n",
    "- \\( f(1,0) = 1 \\)\n",
    "- \\( f(1,1) = 0 \\)\n",
    "\n",
    "The function `encode_pixel_value` sets the qubits based on these values. The grayscale value \\( f(Y, X) \\) for each pixel is encoded using the binary representation:\n",
    "\n",
    "$$\n",
    "f(Y, X) = C^0_{YX} C^1_{YX} \\ldots C^{q-2}_{YX} C^{q-1}_{YX}\n",
    "$$\n",
    "\n",
    "where each \\( C^k_{YX} \\in \\{0, 1\\} \\) and the value of \\( f(Y, X) \\) is in the range \\([0, 2^q - 1]\\).\n",
    "\n"
   ]
  },
  {
   "cell_type": "code",
   "execution_count": 150,
   "metadata": {},
   "outputs": [
    {
     "data": {
      "image/png": "[encoded data removed]",
      "text/plain": [
       "<Figure size 872.774x367.889 with 1 Axes>"
      ]
     },
     "execution_count": 150,
     "metadata": {},
     "output_type": "execute_result"
    }
   ],
   "source": [
    "# Create a 2x2 grayscale image with values ranging from 0 to 1\n",
    "image_data = np.array([[0, 1],\n",
    "                       [1, 0]])\n",
    "\n",
    "# Create the NEQR circuit\n",
    "neqr_circuit = encode_neqr(image_data)\n",
    "neqr_circuit.draw('mpl')"
   ]
  },
  {
   "cell_type": "markdown",
   "metadata": {},
   "source": [
    "## Step 4: Simulate the Circuit\n",
    "\n",
    "We simulate the quantum circuit using Qiskit's QASM simulator to obtain the measurement results, which show how the image is encoded in the quantum state.\n"
   ]
  },
  {
   "cell_type": "code",
   "execution_count": 85,
   "metadata": {},
   "outputs": [],
   "source": [
    "def list_of_index_proba(quasi_probs, qubit_num=2):\n",
    "    list_of_index = []\n",
    "    list_of_proba = []\n",
    "\n",
    "    for i in range(0,2**qubit_num):\n",
    "        list_of_index.append(i)\n",
    "        if i in quasi_probs:\n",
    "            list_of_proba.append(quasi_probs[i])\n",
    "        else:\n",
    "            list_of_proba.append(0)\n",
    "\n",
    "    return list_of_index, list_of_proba\n",
    "\n",
    "def plot_states_quasi_probability(job_result):\n",
    "\n",
    "    list_a, list_b = list_of_index_proba(job_result.quasi_dists[0],4)\n",
    "    bit_strings = list(list_a)\n",
    "    counts = list(list_b)\n",
    "\n",
    "    # Plot the histogram\n",
    "    plt.figure(figsize=(16, 2.5))  # Adjust the figure size as needed\n",
    "    plt.bar(bit_strings, counts)\n",
    "    plt.xlabel('Particle position')\n",
    "    plt.ylabel('Probability')\n",
    "    #plt.title('Histogram of Bit Strings')\n",
    "    plt.xticks(ticks=range(len(bit_strings)), rotation=90, fontsize=8)  # Rotate x-axis labels for readability\n",
    "    plt.tight_layout()\n",
    "    plt.show()"
   ]
  },
  {
   "cell_type": "code",
   "execution_count": 151,
   "metadata": {},
   "outputs": [
    {
     "name": "stdout",
     "output_type": "stream",
     "text": [
      "{0: 0.25, 3: 0.25, 5: 0.25, 6: 0.25}\n"
     ]
    }
   ],
   "source": [
    "sampler = Sampler()\n",
    "job = sampler.run(circuits=[neqr_circuit], parameter_values=[[]], parameters=[[]])\n",
    "job_result = job.result()\n",
    "print(job_result.quasi_dists[0])\n",
    "#plot_states_quasi_probability_1(job_result)"
   ]
  },
  {
   "cell_type": "code",
   "execution_count": 152,
   "metadata": {},
   "outputs": [
    {
     "data": {
      "image/png": "[encoded data removed]",
      "text/plain": [
       "<Figure size 1600x250 with 1 Axes>"
      ]
     },
     "metadata": {},
     "output_type": "display_data"
    }
   ],
   "source": [
    "plot_states_quasi_probability(job_result)"
   ]
  },
  {
   "cell_type": "code",
   "execution_count": 153,
   "metadata": {},
   "outputs": [
    {
     "data": {
      "text/plain": [
       "SamplerResult(quasi_dists=[{0: 0.25, 3: 0.25, 5: 0.25, 6: 0.25}], metadata=[{}])"
      ]
     },
     "execution_count": 153,
     "metadata": {},
     "output_type": "execute_result"
    }
   ],
   "source": [
    "job_result"
   ]
  },
  {
   "cell_type": "code",
   "execution_count": 162,
   "metadata": {},
   "outputs": [
    {
     "name": "stdout",
     "output_type": "stream",
     "text": [
      "Measurement results:\n",
      "0000\n",
      "0011\n",
      "0101\n",
      "0110\n"
     ]
    }
   ],
   "source": [
    "print(\"Measurement results:\")\n",
    "for key, value in job_result.quasi_dists[0].items():\n",
    "    print(format(key, f'0{4}b'))"
   ]
  },
  {
   "cell_type": "markdown",
   "metadata": {},
   "source": [
    "## Conclusion\n",
    "\n",
    "In this notebook, we implemented a quantum circuit for the NEQR model using Qiskit. We encoded a simple 2x2 grayscale image into the quantum state and visualized the results.\n",
    "\n",
    "The resulting quantum state allows for efficient representation and processing of image data in a quantum system.\n",
    "\n",
    "For further reading on NEQR, refer to the article: [NEQR: a novel enhanced quantum representation of digital images](https://link.springer.com/article/10.1007/s11128-013-0567-z)\n"
   ]
  },
  {
   "cell_type": "markdown",
   "metadata": {},
   "source": []
  }
 ],
 "metadata": {
  "kernelspec": {
   "display_name": "cwq",
   "language": "python",
   "name": "python3"
  },
  "language_info": {
   "codemirror_mode": {
    "name": "ipython",
    "version": 3
   },
   "file_extension": ".py",
   "mimetype": "text/x-python",
   "name": "python",
   "nbconvert_exporter": "python",
   "pygments_lexer": "ipython3",
   "version": "3.12.3"
  }
 },
 "nbformat": 4,
 "nbformat_minor": 2
}
