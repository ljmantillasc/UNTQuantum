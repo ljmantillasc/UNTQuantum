{
 "cells": [
  {
   "cell_type": "markdown",
   "metadata": {},
   "source": [
    "# NEQR Quantum Circuit Example\n",
    "\n",
    "**Author: Luis Jose Mantilla Santa Cruz**\n",
    "\n",
    "In this notebook, we will implement a quantum circuit for the Novel Enhanced Quantum Representation (NEQR) model using Qiskit. We will demonstrate how to encode a small 2x2 grayscale image into a quantum state.\n",
    "\n",
    "## Reference\n",
    "\n",
    "For more details on NEQR, please refer to the following article:\n",
    "\n",
    "- **Title:** NEQR: a novel enhanced quantum representation of digital images\n",
    "- **Authors:** [Include author names if available]\n",
    "- **Published:** 26 March 2013\n",
    "- **Journal:** Quantum Information Processing\n",
    "- **Volume:** 12, Pages 2833–2860\n",
    "- **Link:** [NEQR Article on SpringerLink](https://link.springer.com/article/10.1007/s11128-013-0567-z)\n",
    "\n",
    "## Step 1: Import Libraries\n",
    "\n",
    "First, we need to import the required libraries from Qiskit and other useful packages.\n"
   ]
  },
  {
   "cell_type": "code",
   "execution_count": null,
   "metadata": {},
   "outputs": [],
   "source": [
    "# Import necessary libraries\n",
    "from qiskit import QuantumCircuit, Aer, execute\n",
    "from qiskit.visualization import plot_histogram"
   ]
  },
  {
   "cell_type": "markdown",
   "metadata": {},
   "source": [
    "## Step 2: Define the Quantum Circuit\n",
    "\n",
    "We'll define a quantum circuit for encoding a 2x2 image with a grayscale range of 2. This will use 4 qubits: 2 for the coordinates and 2 for the grayscale values.\n"
   ]
  },
  {
   "cell_type": "code",
   "execution_count": null,
   "metadata": {},
   "outputs": [],
   "source": [
    "# Define the quantum circuit\n",
    "n = 2  # Number of qubits for coordinates\n",
    "q = 1  # Number of qubits for grayscale values\n",
    "qc = QuantumCircuit(n + q, n + q)\n"
   ]
  },
  {
   "cell_type": "markdown",
   "metadata": {},
   "source": [
    "## Step 3: Encode Pixel Values\n",
    "\n",
    "We will encode grayscale values and coordinates into the quantum circuit. For simplicity, we assume the pixel values are as follows:\n",
    "\n",
    "- \\( f(0,0) = 0 \\)\n",
    "- \\( f(0,1) = 1 \\)\n",
    "- \\( f(1,0) = 1 \\)\n",
    "- \\( f(1,1) = 0 \\)\n",
    "\n",
    "The function `encode_pixel_value` sets the qubits based on these values.\n"
   ]
  },
  {
   "cell_type": "code",
   "execution_count": null,
   "metadata": {},
   "outputs": [],
   "source": [
    "def encode_pixel_value(qc, value, row, col):\n",
    "    \"\"\" Encode a grayscale value into the circuit \"\"\"\n",
    "    if value == 1:\n",
    "        qc.x(qc.qubits[row])\n",
    "    # Encode coordinates\n",
    "    if col == 1:\n",
    "        qc.x(qc.qubits[n + row])\n",
    "    if row == 1:\n",
    "        qc.x(qc.qubits[n + col])\n"
   ]
  },
  {
   "cell_type": "markdown",
   "metadata": {},
   "source": [
    "## Step 4: Encode Each Pixel\n",
    "\n",
    "Now, we use the `encode_pixel_value` function to encode the values for each pixel.\n"
   ]
  },
  {
   "cell_type": "code",
   "execution_count": null,
   "metadata": {},
   "outputs": [],
   "source": [
    "# Encode each pixel\n",
    "encode_pixel_value(qc, 0, 0, 0)  # f(0,0) = 0\n",
    "encode_pixel_value(qc, 1, 0, 1)  # f(0,1) = 1\n",
    "encode_pixel_value(qc, 1, 1, 0)  # f(1,0) = 1\n",
    "encode_pixel_value(qc, 0, 1, 1)  # f(1,1) = 0\n"
   ]
  },
  {
   "cell_type": "markdown",
   "metadata": {},
   "source": [
    "## Step 5: Apply Hadamard Gates\n",
    "\n",
    "We will apply Hadamard gates to the qubits to put them into a superposition state.\n"
   ]
  },
  {
   "cell_type": "code",
   "execution_count": null,
   "metadata": {},
   "outputs": [],
   "source": [
    "# Apply Hadamard gates to create superposition\n",
    "qc.h(range(n + q))\n"
   ]
  },
  {
   "cell_type": "markdown",
   "metadata": {},
   "source": [
    "## Step 6: Entangle Qubits\n",
    "\n",
    "We use CNOT gates to entangle the coordinate qubits with the grayscale value qubits.\n"
   ]
  },
  {
   "cell_type": "code",
   "execution_count": null,
   "metadata": {},
   "outputs": [],
   "source": [
    "# Apply CNOT gates to entangle the qubits\n",
    "for i in range(n):\n",
    "    qc.cx(i, n + i)\n"
   ]
  },
  {
   "cell_type": "markdown",
   "metadata": {},
   "source": [
    "## Step 7: Measurement\n",
    "\n",
    "We will measure all qubits to get the results.\n"
   ]
  },
  {
   "cell_type": "code",
   "execution_count": null,
   "metadata": {},
   "outputs": [],
   "source": [
    "# Measurement\n",
    "qc.measure(range(n + q), range(n + q))\n",
    "\n",
    "# Draw the quantum circuit\n",
    "qc.draw()\n"
   ]
  },
  {
   "cell_type": "markdown",
   "metadata": {},
   "source": [
    "## Step 8: Simulate the Circuit\n",
    "\n",
    "We will use a quantum simulator to execute the circuit and obtain the results.\n"
   ]
  },
  {
   "cell_type": "code",
   "execution_count": null,
   "metadata": {},
   "outputs": [],
   "source": [
    "# Simulate the circuit\n",
    "backend = Aer.get_backend('qasm_simulator')\n",
    "job = execute(qc, backend, shots=1024)\n",
    "result = job.result()\n",
    "counts = result.get_counts()\n",
    "\n",
    "# Plot the results\n",
    "plot_histogram(counts).show()\n"
   ]
  },
  {
   "cell_type": "markdown",
   "metadata": {},
   "source": [
    "## Conclusion\n",
    "\n",
    "In this notebook, we implemented a quantum circuit for the NEQR model using Qiskit. We encoded a simple 2x2 grayscale image into the quantum state and visualized the results.\n",
    "\n",
    "The resulting quantum state allows for efficient representation and processing of image data in a quantum system.\n"
   ]
  },
  {
   "cell_type": "markdown",
   "metadata": {},
   "source": []
  }
 ],
 "metadata": {
  "language_info": {
   "name": "python"
  }
 },
 "nbformat": 4,
 "nbformat_minor": 2
}
